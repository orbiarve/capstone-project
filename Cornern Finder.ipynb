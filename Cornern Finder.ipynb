{
 "cells": [
  {
   "cell_type": "markdown",
   "metadata": {},
   "source": [
    "# Corner Finder"
   ]
  },
  {
   "cell_type": "markdown",
   "metadata": {},
   "source": [
    "## Introduction/Business Problem"
   ]
  },
  {
   "cell_type": "markdown",
   "metadata": {},
   "source": [
    "According to the Census around 35.5 million Americans move each year to new cities. The most stressful part of moving is finding a new neighborhood you can call home. The goal of this project is to find your corner every where you move or travel. Finding your corner is targeted to people that are relocating to a new place and want to find the environment they already love in another city. This is done by comparing two cities and creating a cluster among neighborhoods. "
   ]
  },
  {
   "cell_type": "markdown",
   "metadata": {},
   "source": [
    "## Data"
   ]
  },
  {
   "cell_type": "markdown",
   "metadata": {},
   "source": [
    "Utilizing python and the foursquare API, neighborhoods of different cities are clustered by the type of venues and amenities that are offered in the different areas. The clustering analysis among neighborhoods results on grouping the most similar neighborhoods together creating  _\"k\"_  groups of similar neighborhoods,  _\"k\"_  is set before the clustering analysis."
   ]
  },
  {
   "cell_type": "markdown",
   "metadata": {},
   "source": [
    "The foursquare API allows different get request, the explore fet request is used wiht the parameters below:\n",
    "- location in latitude, longitude \n",
    "- radius from the given coordinates \n",
    "- limit of venues to return\n",
    "\n"
   ]
  },
  {
   "cell_type": "markdown",
   "metadata": {},
   "source": [
    "The relevant information of the venues from the response is:\n",
    "- name of the venue\n",
    "- location in latitude, longitude \n",
    "- venue category"
   ]
  },
  {
   "cell_type": "code",
   "execution_count": null,
   "metadata": {},
   "outputs": [],
   "source": []
  },
  {
   "cell_type": "markdown",
   "metadata": {},
   "source": [
    "Below is an example of a function written in python handiling the request and reponse of the foursquare API: \n",
    "    "
   ]
  },
  {
   "cell_type": "code",
   "execution_count": null,
   "metadata": {},
   "outputs": [],
   "source": [
    "def getNearbyVenues(names, latitudes, longitudes, radius=500):\n",
    "    \n",
    "    venues_list=[]\n",
    "    for name, lat, lng in zip(names, latitudes, longitudes):\n",
    "        print(name)\n",
    "            \n",
    "        # create the API request URL\n",
    "        url = 'https://api.foursquare.com/v2/venues/explore?&client_id={}&client_secret={}&v={}&ll={},{}&radius={}&limit={}'.format(\n",
    "            CLIENT_ID, \n",
    "            CLIENT_SECRET, \n",
    "            VERSION, \n",
    "            lat, \n",
    "            lng, \n",
    "            radius, \n",
    "            LIMIT)\n",
    "            \n",
    "        # make the GET request\n",
    "        results = requests.get(url).json()[\"response\"]['groups'][0]['items']\n",
    "        \n",
    "        # return only relevant information for each nearby venue\n",
    "        venues_list.append([(\n",
    "            name, \n",
    "            lat, \n",
    "            lng, \n",
    "            v['venue']['name'], \n",
    "            v['venue']['location']['lat'], \n",
    "            v['venue']['location']['lng'],  \n",
    "            v['venue']['categories'][0]['name']) for v in results])\n",
    "\n",
    "    nearby_venues = pd.DataFrame([item for venue_list in venues_list for item in venue_list])\n",
    "    nearby_venues.columns = ['Neighborhood', \n",
    "                  'Neighborhood Latitude', \n",
    "                  'Neighborhood Longitude', \n",
    "                  'Venue', \n",
    "                  'Venue Latitude', \n",
    "                  'Venue Longitude', \n",
    "                  'Venue Category']\n",
    "    \n",
    "    return(nearby_venues)\n"
   ]
  },
  {
   "cell_type": "markdown",
   "metadata": {},
   "source": [
    "<a html= 'foursquare.com'>Foursquare</a> example of a JSON response from on a get 'explore' request:"
   ]
  },
  {
   "cell_type": "code",
   "execution_count": null,
   "metadata": {},
   "outputs": [],
   "source": [
    "\n",
    "    \n",
    "    {\n",
    "  \"meta\": {\n",
    "    \"code\": 200,\n",
    "    \"requestId\": \"5ac51ef86a607143de8eg5cb\"\n",
    "  },\n",
    "  \"response\": {\n",
    "    \"warning\": {\n",
    "      \"text\": \"There aren't a lot of results near you. Try something more general, reset your filters, or expand the search area.\"\n",
    "    },\n",
    "    \"suggestedRadius\": 600,\n",
    "    \"headerLocation\": \"Lower East Side\",\n",
    "    \"headerFullLocation\": \"Lower East Side, New York\",\n",
    "    \"headerLocationGranularity\": \"neighborhood\",\n",
    "    \"totalResults\": 230,\n",
    "    \"suggestedBounds\": {\n",
    "      \"ne\": {\n",
    "        \"lat\": 40.724216906965616,\n",
    "        \"lng\": -73.9896507407283\n",
    "      },\n",
    "      \"sw\": {\n",
    "        \"lat\": 40.72151724718017,\n",
    "        \"lng\": -73.98693222860872\n",
    "      }\n",
    "    },\n",
    "    \"groups\": [\n",
    "      {\n",
    "        \"type\": \"Recommended Places\",\n",
    "        \"name\": \"recommended\",\n",
    "        \"items\": [\n",
    "          {\n",
    "            \"reasons\": {\n",
    "              \"count\": 0,\n",
    "              \"items\": [\n",
    "                {\n",
    "                  \"summary\": \"This spot is popular\",\n",
    "                  \"type\": \"general\",\n",
    "                  \"reasonName\": \"globalInteractionReason\"\n",
    "                }\n",
    "              ]\n",
    "            },\n",
    "            \"venue\": {\n",
    "              \"id\": \"49b6e8d2f964a52016531fe3\",\n",
    "              \"name\": \"Russ & Daughters\",\n",
    "              \"location\": {\n",
    "                \"address\": \"179 E Houston St\",\n",
    "                \"crossStreet\": \"btwn Allen & Orchard St\",\n",
    "                \"lat\": 40.72286707707289,\n",
    "                \"lng\": -73.98829148466851,\n",
    "                \"labeledLatLngs\": [\n",
    "                  {\n",
    "                    \"label\": \"display\",\n",
    "                    \"lat\": 40.72286707707289,\n",
    "                    \"lng\": -73.98829148466851\n",
    "                  }\n",
    "                ],\n",
    "                \"distance\": 130,\n",
    "                \"postalCode\": \"10002\",\n",
    "                \"cc\": \"US\",\n",
    "                \"city\": \"New York\",\n",
    "                \"state\": \"NY\",\n",
    "                \"country\": \"United States\",\n",
    "                \"formattedAddress\": [\n",
    "                  \"179 E Houston St (btwn Allen & Orchard St)\",\n",
    "                  \"New York, NY 10002\",\n",
    "                  \"United States\"\n",
    "                ]\n",
    "              },\n",
    "              \"categories\": [\n",
    "                {\n",
    "                  \"id\": \"4bf58dd8d48988d1f5941735\",\n",
    "                  \"name\": \"Gourmet Shop\",\n",
    "                  \"pluralName\": \"Gourmet Shops\",\n",
    "                  \"shortName\": \"Gourmet\",\n",
    "                  \"icon\": {\n",
    "                    \"prefix\": \"https://ss3.4sqi.net/img/categories_v2/shops/food_gourmet_\",\n",
    "                    \"suffix\": \".png\"\n",
    "                  },\n",
    "                  \"primary\": true\n",
    "                }\n",
    "              ],\n",
    "              \"popularityByGeo\": 0.9999983845502491,\n",
    "              \"venuePage\": {\n",
    "                \"id\": \"77298563\"\n",
    "              }\n",
    "            }\n",
    "          }\n",
    "        ]\n",
    "      }\n",
    "    ]\n",
    "  }\n",
    "}"
   ]
  }
 ],
 "metadata": {
  "kernelspec": {
   "display_name": "Python 3",
   "language": "python",
   "name": "python3"
  },
  "language_info": {
   "codemirror_mode": {
    "name": "ipython",
    "version": 3
   },
   "file_extension": ".py",
   "mimetype": "text/x-python",
   "name": "python",
   "nbconvert_exporter": "python",
   "pygments_lexer": "ipython3",
   "version": "3.6.8"
  }
 },
 "nbformat": 4,
 "nbformat_minor": 2
}
